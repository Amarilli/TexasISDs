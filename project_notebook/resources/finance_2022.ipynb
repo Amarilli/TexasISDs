{
 "cells": [
  {
   "cell_type": "code",
   "execution_count": 1,
   "metadata": {},
   "outputs": [],
   "source": [
    "import pandas as pd\n",
    "import matplotlib as plt"
   ]
  },
  {
   "cell_type": "code",
   "execution_count": 2,
   "metadata": {},
   "outputs": [
    {
     "data": {
      "text/html": [
       "<div>\n",
       "<style scoped>\n",
       "    .dataframe tbody tr th:only-of-type {\n",
       "        vertical-align: middle;\n",
       "    }\n",
       "\n",
       "    .dataframe tbody tr th {\n",
       "        vertical-align: top;\n",
       "    }\n",
       "\n",
       "    .dataframe thead th {\n",
       "        text-align: right;\n",
       "    }\n",
       "</style>\n",
       "<table border=\"1\" class=\"dataframe\">\n",
       "  <thead>\n",
       "    <tr style=\"text-align: right;\">\n",
       "      <th></th>\n",
       "      <th>District Name</th>\n",
       "      <th>Sum of ALL FUNDS-LOCAL PROPERTY TAXES FROM I&amp;S</th>\n",
       "      <th>Sum of ALL FUNDS-TOTAL OPERATING REVENUE</th>\n",
       "      <th>Sum of ALL FUNDS-OTHER LOCAL &amp; INTERMEDIATE REVENUE</th>\n",
       "      <th>Sum of ALL FUNDS-FEDERAL REVENUE</th>\n",
       "      <th>Sum of ALL FUNDS-STATE REVENUE</th>\n",
       "      <th>Sum of ALL FUNDS-LOCAL TAX REVENUE FROM M&amp;O</th>\n",
       "    </tr>\n",
       "  </thead>\n",
       "  <tbody>\n",
       "    <tr>\n",
       "      <th>0</th>\n",
       "      <td>A W BROWN LEADERSHIP ACADEMY</td>\n",
       "      <td>0</td>\n",
       "      <td>17380289</td>\n",
       "      <td>2343209</td>\n",
       "      <td>5837775</td>\n",
       "      <td>9199305</td>\n",
       "      <td>0</td>\n",
       "    </tr>\n",
       "    <tr>\n",
       "      <th>1</th>\n",
       "      <td>A+ ACADEMY</td>\n",
       "      <td>0</td>\n",
       "      <td>22301889</td>\n",
       "      <td>226764</td>\n",
       "      <td>5462223</td>\n",
       "      <td>16612902</td>\n",
       "      <td>0</td>\n",
       "    </tr>\n",
       "    <tr>\n",
       "      <th>2</th>\n",
       "      <td>A+ UNLIMITED POTENTIAL</td>\n",
       "      <td>0</td>\n",
       "      <td>2736607</td>\n",
       "      <td>444206</td>\n",
       "      <td>740187</td>\n",
       "      <td>1552214</td>\n",
       "      <td>0</td>\n",
       "    </tr>\n",
       "    <tr>\n",
       "      <th>3</th>\n",
       "      <td>ABBOTT ISD</td>\n",
       "      <td>328587</td>\n",
       "      <td>4450351</td>\n",
       "      <td>424063</td>\n",
       "      <td>480686</td>\n",
       "      <td>2464936</td>\n",
       "      <td>1080666</td>\n",
       "    </tr>\n",
       "    <tr>\n",
       "      <th>4</th>\n",
       "      <td>ABERNATHY ISD</td>\n",
       "      <td>1528080</td>\n",
       "      <td>11971116</td>\n",
       "      <td>435313</td>\n",
       "      <td>1937850</td>\n",
       "      <td>4691726</td>\n",
       "      <td>4906227</td>\n",
       "    </tr>\n",
       "  </tbody>\n",
       "</table>\n",
       "</div>"
      ],
      "text/plain": [
       "                  District Name  \\\n",
       "0  A W BROWN LEADERSHIP ACADEMY   \n",
       "1                    A+ ACADEMY   \n",
       "2        A+ UNLIMITED POTENTIAL   \n",
       "3                    ABBOTT ISD   \n",
       "4                 ABERNATHY ISD   \n",
       "\n",
       "   Sum of ALL FUNDS-LOCAL PROPERTY TAXES FROM I&S  \\\n",
       "0                                               0   \n",
       "1                                               0   \n",
       "2                                               0   \n",
       "3                                          328587   \n",
       "4                                         1528080   \n",
       "\n",
       "   Sum of ALL FUNDS-TOTAL OPERATING REVENUE  \\\n",
       "0                                  17380289   \n",
       "1                                  22301889   \n",
       "2                                   2736607   \n",
       "3                                   4450351   \n",
       "4                                  11971116   \n",
       "\n",
       "   Sum of ALL FUNDS-OTHER LOCAL & INTERMEDIATE REVENUE  \\\n",
       "0                                            2343209     \n",
       "1                                             226764     \n",
       "2                                             444206     \n",
       "3                                             424063     \n",
       "4                                             435313     \n",
       "\n",
       "   Sum of ALL FUNDS-FEDERAL REVENUE  Sum of ALL FUNDS-STATE REVENUE  \\\n",
       "0                           5837775                         9199305   \n",
       "1                           5462223                        16612902   \n",
       "2                            740187                         1552214   \n",
       "3                            480686                         2464936   \n",
       "4                           1937850                         4691726   \n",
       "\n",
       "   Sum of ALL FUNDS-LOCAL TAX REVENUE FROM M&O  \n",
       "0                                            0  \n",
       "1                                            0  \n",
       "2                                            0  \n",
       "3                                      1080666  \n",
       "4                                      4906227  "
      ]
     },
     "execution_count": 2,
     "metadata": {},
     "output_type": "execute_result"
    }
   ],
   "source": [
    "#Finances\n",
    "finance_2022_df = pd.read_csv(\"resources/2022_finance.csv\")\n",
    "finance_2022_df.head()"
   ]
  },
  {
   "cell_type": "code",
   "execution_count": 3,
   "metadata": {},
   "outputs": [
    {
     "data": {
      "text/plain": [
       "Index(['District Name', 'Sum of ALL FUNDS-LOCAL PROPERTY TAXES FROM I&S',\n",
       "       'Sum of ALL FUNDS-TOTAL OPERATING REVENUE',\n",
       "       'Sum of ALL FUNDS-OTHER LOCAL & INTERMEDIATE REVENUE',\n",
       "       'Sum of ALL FUNDS-FEDERAL REVENUE', 'Sum of ALL FUNDS-STATE REVENUE',\n",
       "       'Sum of ALL FUNDS-LOCAL TAX REVENUE FROM M&O'],\n",
       "      dtype='object')"
      ]
     },
     "execution_count": 3,
     "metadata": {},
     "output_type": "execute_result"
    }
   ],
   "source": [
    "finance_2022_df.columns"
   ]
  }
 ],
 "metadata": {
  "kernelspec": {
   "display_name": "base",
   "language": "python",
   "name": "python3"
  },
  "language_info": {
   "codemirror_mode": {
    "name": "ipython",
    "version": 3
   },
   "file_extension": ".py",
   "mimetype": "text/x-python",
   "name": "python",
   "nbconvert_exporter": "python",
   "pygments_lexer": "ipython3",
   "version": "3.11.5"
  }
 },
 "nbformat": 4,
 "nbformat_minor": 2
}
